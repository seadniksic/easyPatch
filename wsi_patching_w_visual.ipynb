{
 "cells": [
  {
   "cell_type": "code",
   "execution_count": 6,
   "metadata": {},
   "outputs": [],
   "source": [
    "from create_patches import patch\n",
    "import time\n",
    "from matplotlib import pyplot as plt\n",
    "import torch\n",
    "import openslide as op\n",
    "import numpy as np\n",
    "import pyvips\n"
   ]
  },
  {
   "cell_type": "code",
   "execution_count": 7,
   "metadata": {},
   "outputs": [],
   "source": [
    "from create_patches.filters.ClassificationFilter import ClassificationFilter\n",
    "import sys\n",
    "sys.path.append(\"..\")\n",
    "from oed_research_utils.utilities.ml.model_creation.src.models.VGGBinary import VGGBinary\n",
    "from oed_research_utils.utilities.ml.model_creation.src.transforms.StandardizeTransform import StandardizeTransform\n",
    "\n",
    "MASK_PATH = \"../data/new_data/test_slides/ptest1_mask.tif\"\n",
    "\n",
    "model = VGGBinary(pretrained=False)\n",
    "model.load_state_dict(torch.load(\"../data/new_data/model_weights/vgg_poster_run.pt\"))\n",
    "\n",
    "custom_filter = ClassificationFilter(MASK_PATH, model, StandardizeTransform()).filter"
   ]
  },
  {
   "cell_type": "code",
   "execution_count": 8,
   "metadata": {},
   "outputs": [
    {
     "name": "stdout",
     "output_type": "stream",
     "text": [
      "Patches file create_patches/patches.h5 already exists.  Will overwrite or append.\n"
     ]
    },
    {
     "name": "stderr",
     "output_type": "stream",
     "text": [
      " 67%|██████▋   | 2/3 [00:00<00:00,  4.27it/s]"
     ]
    },
    {
     "name": "stdout",
     "output_type": "stream",
     "text": [
      "0\n"
     ]
    },
    {
     "name": "stderr",
     "output_type": "stream",
     "text": [
      "100%|██████████| 3/3 [00:00<00:00,  3.87it/s]"
     ]
    },
    {
     "name": "stdout",
     "output_type": "stream",
     "text": [
      "0\n",
      "0\n",
      "0\n",
      "0\n"
     ]
    },
    {
     "name": "stderr",
     "output_type": "stream",
     "text": [
      "\n"
     ]
    }
   ],
   "source": [
    "IMAGE_PATH = \"../data/new_data/test_slides/ptest1.svs\"\n",
    "PATCH_PATH = \"create_patches\"\n",
    "PATCH_SIZE = 512\n",
    "\n",
    "patcher = patch.Patcher(PATCH_PATH, use_hdf5=True)# set up the patcher\n",
    "\n",
    "patches, metadata = patcher.patch(IMAGE_PATH, PATCH_SIZE, overlap=None, level=1, return_patches=True, filter=custom_filter) # patcher patches the image and saves the patches to and hdf5 file at the path specified to the constuctor\n",
    "# patcher.patch_with_mask(IMAGE_PATH, XML_PATH, PATCH_SIZE, level=0, return_patches=False, accept_threshold=10) #accept_threshold between 0 and 255"
   ]
  },
  {
   "cell_type": "code",
   "execution_count": 9,
   "metadata": {},
   "outputs": [
    {
     "name": "stdout",
     "output_type": "stream",
     "text": [
      "Loading array patches\n",
      "Beginning Recombination\n",
      "New shape: (1536, 3072, 3)\n"
     ]
    }
   ],
   "source": [
    "rows = patcher.recombine_no_overlap(patches=patches, metadata=metadata, from_array=True)"
   ]
  },
  {
   "cell_type": "markdown",
   "metadata": {},
   "source": []
  },
  {
   "cell_type": "code",
   "execution_count": 6,
   "metadata": {},
   "outputs": [
    {
     "name": "stdout",
     "output_type": "stream",
     "text": [
      "(1862, 3386, 3)\n"
     ]
    }
   ],
   "source": [
    "print(rows.shape)"
   ]
  },
  {
   "cell_type": "markdown",
   "metadata": {},
   "source": []
  },
  {
   "cell_type": "code",
   "execution_count": 10,
   "metadata": {},
   "outputs": [],
   "source": [
    "import pyvips\n",
    "vi = pyvips.Image.new_from_array(rows)\n",
    "vi.tiffsave(\"../data/new_data/test_slides/ptest1_output_test_512_lev1_110.tif\", tile=True, depth=\"onetile\", pyramid=True, compression=\"jpeg\", bigtiff=False)"
   ]
  },
  {
   "cell_type": "code",
   "execution_count": 1,
   "metadata": {},
   "outputs": [
    {
     "name": "stderr",
     "output_type": "stream",
     "text": [
      "100%|██████████| 49/49 [00:00<00:00, 210.52it/s]\n"
     ]
    },
    {
     "name": "stdout",
     "output_type": "stream",
     "text": [
      "overlap_x: 3, overlap_y: 7, patched_image_size: 3577, num_x_patches: 73, num_y_patches: 49\n",
      "Extracting Patches\n",
      "Beginning Recombination\n",
      "New shape: (24752, 37160, 3)\n"
     ]
    }
   ],
   "source": [
    "from create_patches import patch\n",
    "import time\n",
    "from matplotlib import pyplot as plt\n",
    "import torch\n",
    "import pyvips\n",
    "\n",
    "\n",
    "IMAGE_PATH = \"../data/new_data/test_images/test_1.svs\"\n",
    "PATCH_PATH = \"create_patches\"\n",
    "PATCH_SIZE = 512\n",
    "\n",
    "\n",
    "patcher = patch.Patcher(PATCH_PATH) # set up the patcher\n",
    "\n",
    "patcher.patch(IMAGE_PATH, PATCH_SIZE) # patcher patches the image and saves the patches to and hdf5 file at the path specified to the constuctor\n",
    "\n",
    "rows = patcher.recombine(IMAGE_PATH)\n",
    "\n",
    "vi = pyvips.Image.new_from_array(rows)\n",
    "vi.tiffsave(\"./normal.tif\", tile=True, depth=\"onetile\", pyramid=True, compression=\"jpeg\", bigtiff=False)\n",
    "\n",
    "rows[rows < 200] = 50\n",
    "\n",
    "vi = pyvips.Image.new_from_array(rows)\n",
    "vi.tiffsave(\"./thresholded.tif\", tile=True, depth=\"onetile\", pyramid=True, compression=\"jpeg\", bigtiff=False)"
   ]
  },
  {
   "cell_type": "code",
   "execution_count": 3,
   "metadata": {},
   "outputs": [
    {
     "name": "stdout",
     "output_type": "stream",
     "text": [
      "[1 2 3 4]\n",
      "[]\n"
     ]
    }
   ],
   "source": [
    "import numpy as np\n",
    "\n",
    "a = np.array([1,2,3,4])\n",
    "\n",
    "b = a\n",
    "\n",
    "a = []\n",
    "\n",
    "print(b)\n",
    "print(a)"
   ]
  },
  {
   "cell_type": "code",
   "execution_count": 34,
   "metadata": {},
   "outputs": [
    {
     "name": "stdout",
     "output_type": "stream",
     "text": [
      "139676188711152\n",
      "[2 4 6]\n",
      "[2 4 6]\n"
     ]
    }
   ],
   "source": [
    "g = np.array([1,2,3])\n",
    "\n",
    "def test(arr):\n",
    "    print(id(arr))\n",
    "    arr *= 2\n",
    "    return arr\n",
    "\n",
    "b = test(g)\n",
    "\n",
    "print(g)\n",
    "print(b)\n"
   ]
  },
  {
   "cell_type": "code",
   "execution_count": 9,
   "metadata": {},
   "outputs": [
    {
     "data": {
      "text/plain": [
       "False"
      ]
     },
     "execution_count": 9,
     "metadata": {},
     "output_type": "execute_result"
    }
   ],
   "source": [
    "None == 0"
   ]
  },
  {
   "cell_type": "code",
   "execution_count": 10,
   "metadata": {},
   "outputs": [
    {
     "ename": "TypeError",
     "evalue": "unsupported operand type(s) for +: 'int' and 'NoneType'",
     "output_type": "error",
     "traceback": [
      "\u001b[0;31m---------------------------------------------------------------------------\u001b[0m",
      "\u001b[0;31mTypeError\u001b[0m                                 Traceback (most recent call last)",
      "Cell \u001b[0;32mIn[10], line 1\u001b[0m\n\u001b[0;32m----> 1\u001b[0m \u001b[38;5;241;43m1\u001b[39;49m\u001b[43m \u001b[49m\u001b[38;5;241;43m+\u001b[39;49m\u001b[43m \u001b[49m\u001b[38;5;28;43;01mNone\u001b[39;49;00m\n",
      "\u001b[0;31mTypeError\u001b[0m: unsupported operand type(s) for +: 'int' and 'NoneType'"
     ]
    }
   ],
   "source": [
    "1 + None"
   ]
  },
  {
   "cell_type": "code",
   "execution_count": 5,
   "metadata": {},
   "outputs": [],
   "source": [
    "A = np.array([1,2,3,4])"
   ]
  },
  {
   "cell_type": "code",
   "execution_count": 10,
   "metadata": {},
   "outputs": [
    {
     "data": {
      "text/plain": [
       "array([], dtype=int64)"
      ]
     },
     "execution_count": 10,
     "metadata": {},
     "output_type": "execute_result"
    }
   ],
   "source": [
    "A[:]"
   ]
  },
  {
   "cell_type": "code",
   "execution_count": null,
   "metadata": {},
   "outputs": [],
   "source": []
  }
 ],
 "metadata": {
  "kernelspec": {
   "display_name": "environment",
   "language": "python",
   "name": "python3"
  },
  "language_info": {
   "codemirror_mode": {
    "name": "ipython",
    "version": 3
   },
   "file_extension": ".py",
   "mimetype": "text/x-python",
   "name": "python",
   "nbconvert_exporter": "python",
   "pygments_lexer": "ipython3",
   "version": "3.10.14"
  },
  "orig_nbformat": 4
 },
 "nbformat": 4,
 "nbformat_minor": 2
}

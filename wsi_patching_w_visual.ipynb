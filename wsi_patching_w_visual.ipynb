{
 "cells": [
  {
   "cell_type": "code",
   "execution_count": 2,
   "metadata": {},
   "outputs": [
    {
     "name": "stderr",
     "output_type": "stream",
     "text": [
      "100%|██████████| 49/49 [01:35<00:00,  1.95s/it]\n"
     ]
    }
   ],
   "source": [
    "from create_patches import patch\n",
    "import time\n",
    "from matplotlib import pyplot as plt\n",
    "import torch\n",
    "import openslide as op\n",
    "import numpy as np\n",
    "# import pyvips\n",
    "\n",
    "IMAGE_PATH = \"../data/new_data/temp/test_images/test_1.svs\"\n",
    "PATCH_PATH = \"create_patches\"\n",
    "PATCH_SIZE = 512\n",
    "\n",
    "patcher = patch.Patcher(PATCH_PATH, use_hdf5=True)# set up the patcher\n",
    "\n",
    "annotation_mask = op.OpenSlide(\"../data/new_data/temp/test_masks/test_1_mask.tif\")\n",
    "accept_threshold = 10\n",
    "\n",
    "# If the filter returns true the patch is removed from the returned patches (assuming return patches is True)\n",
    "def custom_filter(image, current_patch, anchor, level, patch_size):\n",
    "    mask_patch = np.array(annotation_mask.read_region((*list(anchor),), level, (patch_size, patch_size)))[:,:,:3]\n",
    "\n",
    "    if np.mean(mask_patch) > accept_threshold:\n",
    "        current_patch = current_patch.astype(np.float32) / 1.5\n",
    "        current_patch[:,:,2] += ((255 - current_patch[:, :, 2]) / 2)\n",
    "        return True, current_patch.astype(np.uint8)\n",
    "    else:\n",
    "        return False, current_patch\n",
    "\n",
    "\n",
    "patches, metadata = patcher.patch(IMAGE_PATH, PATCH_SIZE, level=0, return_patches=True, filter=custom_filter) # patcher patches the image and saves the patches to and hdf5 file at the path specified to the constuctor\n",
    "# patcher.patch_with_mask(IMAGE_PATH, XML_PATH, PATCH_SIZE, level=0, return_patches=False, accept_threshold=10) #accept_threshold between 0 and 255\n"
   ]
  },
  {
   "cell_type": "code",
   "execution_count": 3,
   "metadata": {},
   "outputs": [
    {
     "name": "stdout",
     "output_type": "stream",
     "text": [
      "Loading array patches\n",
      "Beginning Recombination\n",
      "New shape: (24752, 37160, 3)\n"
     ]
    }
   ],
   "source": [
    "rows = patcher.recombine(patches=patches, metadata=metadata, from_array=True)"
   ]
  },
  {
   "cell_type": "code",
   "execution_count": 4,
   "metadata": {},
   "outputs": [],
   "source": [
    "import pyvips\n",
    "vi = pyvips.Image.new_from_array(rows)\n",
    "vi.tiffsave(\"./recombined_test5.tif\", tile=True, depth=\"onetile\", pyramid=True, compression=\"jpeg\", bigtiff=False)"
   ]
  },
  {
   "cell_type": "code",
   "execution_count": 1,
   "metadata": {},
   "outputs": [
    {
     "name": "stderr",
     "output_type": "stream",
     "text": [
      "100%|██████████| 49/49 [00:00<00:00, 210.52it/s]\n"
     ]
    },
    {
     "name": "stdout",
     "output_type": "stream",
     "text": [
      "overlap_x: 3, overlap_y: 7, patched_image_size: 3577, num_x_patches: 73, num_y_patches: 49\n",
      "Extracting Patches\n",
      "Beginning Recombination\n",
      "New shape: (24752, 37160, 3)\n"
     ]
    }
   ],
   "source": [
    "from create_patches import patch\n",
    "import time\n",
    "from matplotlib import pyplot as plt\n",
    "import torch\n",
    "import pyvips\n",
    "\n",
    "\n",
    "IMAGE_PATH = \"../data/new_data/test_images/test_1.svs\"\n",
    "PATCH_PATH = \"create_patches\"\n",
    "PATCH_SIZE = 512\n",
    "\n",
    "\n",
    "patcher = patch.Patcher(PATCH_PATH) # set up the patcher\n",
    "\n",
    "patcher.patch(IMAGE_PATH, PATCH_SIZE) # patcher patches the image and saves the patches to and hdf5 file at the path specified to the constuctor\n",
    "\n",
    "rows = patcher.recombine(IMAGE_PATH)\n",
    "\n",
    "vi = pyvips.Image.new_from_array(rows)\n",
    "vi.tiffsave(\"./normal.tif\", tile=True, depth=\"onetile\", pyramid=True, compression=\"jpeg\", bigtiff=False)\n",
    "\n",
    "rows[rows < 200] = 50\n",
    "\n",
    "vi = pyvips.Image.new_from_array(rows)\n",
    "vi.tiffsave(\"./thresholded.tif\", tile=True, depth=\"onetile\", pyramid=True, compression=\"jpeg\", bigtiff=False)"
   ]
  },
  {
   "cell_type": "code",
   "execution_count": 3,
   "metadata": {},
   "outputs": [
    {
     "name": "stdout",
     "output_type": "stream",
     "text": [
      "[1 2 3 4]\n",
      "[]\n"
     ]
    }
   ],
   "source": [
    "import numpy as np\n",
    "\n",
    "a = np.array([1,2,3,4])\n",
    "\n",
    "b = a\n",
    "\n",
    "a = []\n",
    "\n",
    "print(b)\n",
    "print(a)"
   ]
  },
  {
   "cell_type": "code",
   "execution_count": 34,
   "metadata": {},
   "outputs": [
    {
     "name": "stdout",
     "output_type": "stream",
     "text": [
      "139676188711152\n",
      "[2 4 6]\n",
      "[2 4 6]\n"
     ]
    }
   ],
   "source": [
    "g = np.array([1,2,3])\n",
    "\n",
    "def test(arr):\n",
    "    print(id(arr))\n",
    "    arr *= 2\n",
    "    return arr\n",
    "\n",
    "b = test(g)\n",
    "\n",
    "print(g)\n",
    "print(b)\n"
   ]
  },
  {
   "cell_type": "code",
   "execution_count": null,
   "metadata": {},
   "outputs": [],
   "source": []
  }
 ],
 "metadata": {
  "kernelspec": {
   "display_name": "environment",
   "language": "python",
   "name": "python3"
  },
  "language_info": {
   "codemirror_mode": {
    "name": "ipython",
    "version": 3
   },
   "file_extension": ".py",
   "mimetype": "text/x-python",
   "name": "python",
   "nbconvert_exporter": "python",
   "pygments_lexer": "ipython3",
   "version": "3.10.14"
  },
  "orig_nbformat": 4
 },
 "nbformat": 4,
 "nbformat_minor": 2
}

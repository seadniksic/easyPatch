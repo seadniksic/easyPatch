{
 "cells": [
  {
   "cell_type": "code",
   "execution_count": 1,
   "metadata": {},
   "outputs": [],
   "source": [
    "import sys\n",
    "sys.path.insert(0, \".\")\n",
    "import xml.etree.ElementTree as ET\n",
    "import numpy as np\n",
    "from PIL import Image, ImageOps\n",
    "import PIL\n",
    "import time\n",
    "import cv2\n",
    "import os\n",
    "import openslide as op"
   ]
  },
  {
   "cell_type": "code",
   "execution_count": 8,
   "metadata": {},
   "outputs": [],
   "source": [
    "FILE_NAME= 'B4_Y'\n",
    "WSI_PATH ='Slides/'\n",
    "LEVEL=1"
   ]
  },
  {
   "cell_type": "code",
   "execution_count": 43,
   "metadata": {},
   "outputs": [],
   "source": [
    "PIL.Image.MAX_IMAGE_PIXELS = 71647758000\n",
    "key = ['normal', 'low', 'high']\n",
    "\n",
    "def gen_mask(FILE_NAME, WSI_PATH, LEVEL):\n",
    "    #Open wsi and get height and width\n",
    "    wsi_img = op.OpenSlide(\"Slides/{}.svs\".format(FILE_NAME))\n",
    "    WIDTH = wsi_img.level_dimensions[LEVEL][0]\n",
    "    HEIGHT = wsi_img.level_dimensions[LEVEL][1]\n",
    "    DOWNSAMPLE_FACTOR = 4**LEVEL\n",
    "\n",
    "    #Create mask array\n",
    "    img = np.zeros((HEIGHT, WIDTH), dtype=np.uint8)\n",
    "    print(\"Generating mask for {}\".format(FILE_NAME))\n",
    "    #Convert xml to list of vertices\n",
    "    annotation = xml_to_points(FILE_NAME, DOWNSAMPLE_FACTOR, key)\n",
    "    #Convert list of vertices to binary mask\n",
    "    points_to_mask(FILE_NAME, annotation, img, wsi_img, LEVEL)\n",
    "\n",
    "def xml_to_points(FILE_NAME, DOWNSAMPLE_FACTOR, key):\n",
    "    tree = ET.parse('Slides/{}.xml'.format(FILE_NAME))\n",
    "    root = tree.getroot()\n",
    "    layers = [] #list of lists of vertexes.  Each sub list represents a distinct region\n",
    "    for i, layer in enumerate(root.findall(\"./Annotation\")):\n",
    "        if (layer.attrib['Name']) == key[i]:\n",
    "            annotation = []\n",
    "            for Region in layer.findall('Regions/Region'):\n",
    "                vertex_list = []\n",
    "                vertex_list.append(int(Region.get('NegativeROA'))) \n",
    "\n",
    "                for vertex in Region.getiterator('Vertex'):\n",
    "                    point = [int(float(vertex.get('X'))), int(float(vertex.get('Y')))]\n",
    "                    point[0] = max(point[0], 0) / DOWNSAMPLE_FACTOR\n",
    "                    point[1] = max(point[1], 0) / DOWNSAMPLE_FACTOR\n",
    "                    vertex_list.append(point)\n",
    "                \n",
    "                annotation.append(vertex_list)\n",
    "            layers.append(annotation)\n",
    "\n",
    "    #if (len(layers))==3:\n",
    "    return layers\n",
    "    \n",
    "    #else:\n",
    "        #print('error')\n",
    "\n",
    "\n",
    "def points_to_mask(FILE_NAME, layers, img, wsi_img, LEVEL):\n",
    "\n",
    "    #Create initial mask \n",
    "    for count, annotation in enumerate(layers):\n",
    "        for Region in annotation:\n",
    "            negative = Region.pop(0)      \n",
    "            pts = np.array(Region, dtype=np.int32)\n",
    "            cv2.fillPoly(img, [pts], count + 1)\n",
    " \n",
    "    #Create second mask from initial image (with background thresholding)\n",
    "    mask_2 = np.array(ImageOps.grayscale(wsi_img.get_thumbnail((wsi_img.level_dimensions[LEVEL][0],wsi_img.level_dimensions[LEVEL][1]))))\n",
    "    mask_2[mask_2 > 220] = 0    \n",
    "    mask_2[mask_2 > 0] = 1\n",
    "\n",
    "    final_mask = img * mask_2\n",
    "    final_mask[final_mask == 1] = 255\n",
    "    final_mask[final_mask == 2] = 155\n",
    "    print(\"saving\")\n",
    "    im = Image.fromarray(final_mask)\n",
    "    if not os.path.exists(\"masks/\"):\n",
    "        os.makedirs(\"masks/\")\n",
    "    im.save(\"masks/{}_mask.jpeg\".format(FILE_NAME))"
   ]
  },
  {
   "cell_type": "code",
   "execution_count": 44,
   "metadata": {},
   "outputs": [
    {
     "name": "stdout",
     "output_type": "stream",
     "text": [
      "Generating mask for B4_Y\n",
      "saving\n"
     ]
    }
   ],
   "source": [
    "gen_mask(FILE_NAME, WSI_PATH, LEVEL)"
   ]
  },
  {
   "cell_type": "code",
   "execution_count": null,
   "metadata": {},
   "outputs": [],
   "source": []
  }
 ],
 "metadata": {
  "kernelspec": {
   "display_name": "Python 3",
   "language": "python",
   "name": "python3"
  },
  "language_info": {
   "codemirror_mode": {
    "name": "ipython",
    "version": 3
   },
   "file_extension": ".py",
   "mimetype": "text/x-python",
   "name": "python",
   "nbconvert_exporter": "python",
   "pygments_lexer": "ipython3",
   "version": "3.7.4"
  }
 },
 "nbformat": 4,
 "nbformat_minor": 2
}
